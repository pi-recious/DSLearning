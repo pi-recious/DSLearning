{
  "nbformat": 4,
  "nbformat_minor": 0,
  "metadata": {
    "colab": {
      "name": "DataSampliingexipynb",
      "provenance": [],
      "private_outputs": true,
      "collapsed_sections": [],
      "toc_visible": true,
      "include_colab_link": true
    },
    "kernelspec": {
      "name": "python3",
      "display_name": "Python 3"
    }
  },
  "cells": [
    {
      "cell_type": "markdown",
      "metadata": {
        "id": "view-in-github",
        "colab_type": "text"
      },
      "source": [
        "<a href=\"https://colab.research.google.com/github/pi-recious/DSLearning/blob/master/DataSampliingexipynb.ipynb\" target=\"_parent\"><img src=\"https://colab.research.google.com/assets/colab-badge.svg\" alt=\"Open In Colab\"/></a>"
      ]
    },
    {
      "cell_type": "markdown",
      "metadata": {
        "id": "PL6wT2YJ1R0y",
        "colab_type": "text"
      },
      "source": [
        "# Dataethics4all \n",
        "***Preprocessing*** \n",
        "\n",
        "**Sampling**\n",
        "\n",
        "![sampling.png](data:image/png;base64,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) "
      ]
    },
    {
      "cell_type": "markdown",
      "metadata": {
        "id": "tuQO3V7z2AAW",
        "colab_type": "text"
      },
      "source": [
        "# Excerise\n",
        "This notebook will step through the major sampling techniques as well as show the consequences of badly sampled data "
      ]
    },
    {
      "cell_type": "markdown",
      "metadata": {
        "id": "_rQIVFsb2zjD",
        "colab_type": "text"
      },
      "source": [
        "## Random Sample\n",
        "In this case we take a random sample of the underlying data"
      ]
    },
    {
      "cell_type": "code",
      "metadata": {
        "id": "_hY-L0qe2yxR",
        "colab_type": "code",
        "colab": {}
      },
      "source": [
        "import random\n",
        "LENGTH = 5\n",
        "data = [1,2,4,6,7,10,11,4,3,2,1,5,6,9,0,12]\n",
        "random.sample(data,LENGTH)"
      ],
      "execution_count": null,
      "outputs": []
    },
    {
      "cell_type": "markdown",
      "metadata": {
        "id": "UWCCcur13qMH",
        "colab_type": "text"
      },
      "source": [
        "### Write your own code\n",
        "\n",
        "Take the list and sample it to LENGTH n"
      ]
    },
    {
      "cell_type": "code",
      "metadata": {
        "id": "uvRdsFCg33FJ",
        "colab_type": "code",
        "colab": {}
      },
      "source": [
        "data = [1,2,4,6,7,10,11,4,3,2,1,5,6,9,0,12]\n",
        "LENGTH = 8 #this i\n",
        "random.sample\n",
        "#Put your own code here - don't use the random sample from the previous cell"
      ],
      "execution_count": null,
      "outputs": []
    },
    {
      "cell_type": "markdown",
      "metadata": {
        "id": "9wBBPJ5M3_j6",
        "colab_type": "text"
      },
      "source": [
        "## Stratified Sample\n",
        "\n",
        "[More Information](https://en.wikipedia.org/wiki/Stratified_sampling). Stratfied samples sub-populations of a data set\n",
        "\n",
        "Example taken from [Here](https://github.com/codebrain001/California-Housing-Project/blob/master/California%20Housing%20Project.ipynb)\n",
        "\n",
        "This cell is for loading and basic characteristics"
      ]
    },
    {
      "cell_type": "code",
      "metadata": {
        "id": "SJGlvu4a4ibG",
        "colab_type": "code",
        "colab": {}
      },
      "source": [
        "#Download data\n",
        "! wget --no-check-certificat 'https://docs.google.com/uc?export=download&id=1lPbYlrnt-n1ugpJUq7ny7NFaxveZt3sE' -O 'housing.csv'\n",
        "\n",
        "import pandas as pd\n",
        "import numpy as np\n",
        "%matplotlib inline\n",
        "import matplotlib.pyplot as plt\n",
        "import seaborn as sns\n",
        "# import warnings filter\n",
        "from warnings import simplefilter\n",
        "# ignore all future warnings\n",
        "simplefilter(action='ignore', category=FutureWarning)\n",
        "\n",
        "data = pd.read_csv('housing.csv') #reading the California Housing data\n",
        "data.head()\n",
        "data.info()\n",
        "data['ocean_proximity'].value_counts()\n",
        "data.describe()\n",
        "data.hist(bins=50, figsize=(20,20))\n",
        "plt.show()\n",
        "cor = data.corr()\n",
        "plt.figure(figsize=(15,15))\n",
        "sns.heatmap(cor, annot=True)"
      ],
      "execution_count": null,
      "outputs": []
    },
    {
      "cell_type": "markdown",
      "metadata": {
        "id": "LrlBHs_t7skT",
        "colab_type": "text"
      },
      "source": [
        "Stratified Sample"
      ]
    },
    {
      "cell_type": "code",
      "metadata": {
        "id": "_TemB0mf7rPM",
        "colab_type": "code",
        "colab": {}
      },
      "source": [
        "from sklearn.model_selection import train_test_split\n",
        "\n",
        "#splitting the training data\n",
        "train_set1, test_set1 = train_test_split(data, test_size=0.3, random_state=42)\n",
        "train_set1.shape, test_set1.shape\n",
        "\n",
        "data['income_cat'] =pd.cut(data['median_income'], bins = [0., 2., 4., 6., 8.,np.inf], labels=[1,2,3,4,5])\n",
        "data['income_cat'].hist()\n",
        "\n",
        "from sklearn.model_selection import StratifiedShuffleSplit\n",
        "\n",
        "sss = StratifiedShuffleSplit(n_splits = 5, test_size = 0.3, random_state=42)\n",
        "sss.get_n_splits(data)\n",
        "\n",
        "sss = StratifiedShuffleSplit(n_splits= 5, test_size=0.3, random_state=42)\n",
        "for train_index, test_index in sss.split(data,data['income_cat']):\n",
        "    print('Train:', train_index, 'Test:', test_index)\n",
        "    train_set2 = data.loc[train_index]\n",
        "    test_set2 = data.loc[test_index]\n",
        "\n",
        "test_set2['income_cat'].value_counts()/ len(test_set2)\n",
        "def income_cat_proportions(data):\n",
        "    return data[\"income_cat\"].value_counts() / len(data)\n",
        "\n",
        "train_set1, test_set1 = train_test_split(data, test_size=0.2, random_state=42)\n",
        "compare_props = pd.DataFrame({\n",
        "    \"Overall\": income_cat_proportions(data),\n",
        "    \"Random\": income_cat_proportions(test_set1),\n",
        "    \"Stratified\": income_cat_proportions(test_set2),  \n",
        "}).sort_index()\n",
        "compare_props[\"Rand. %error\"] = 100 * compare_props[\"Random\"] / compare_props[\"Overall\"] - 100\n",
        "compare_props[\"Strat. %error\"] = 100 * compare_props[\"Stratified\"] / compare_props[\"Overall\"] - 100\n",
        "\n",
        "compare_props"
      ],
      "execution_count": null,
      "outputs": []
    },
    {
      "cell_type": "markdown",
      "metadata": {
        "id": "8ujRbwkM9WOP",
        "colab_type": "text"
      },
      "source": [
        "# Write your own code\n",
        "\n",
        "Write a balanced sample from housing.csv where all categories have the same amount of data\n"
      ]
    },
    {
      "cell_type": "code",
      "metadata": {
        "id": "Rs8Qq6Fg9yi7",
        "colab_type": "code",
        "colab": {}
      },
      "source": [
        "#Write your code here"
      ],
      "execution_count": null,
      "outputs": []
    }
  ]
}